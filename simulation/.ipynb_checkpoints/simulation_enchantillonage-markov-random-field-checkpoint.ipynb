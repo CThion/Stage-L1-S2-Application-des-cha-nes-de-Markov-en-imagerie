{
 "cells": [
  {
   "cell_type": "markdown",
   "metadata": {},
   "source": [
    "# Simulation of metropolis and Gibbs algorithms"
   ]
  },
  {
   "cell_type": "markdown",
   "metadata": {},
   "source": [
    "## Manage pictures with python "
   ]
  },
  {
   "cell_type": "code",
   "execution_count": 3,
   "metadata": {},
   "outputs": [],
   "source": [
    "import random as rd\n",
    "from math import *\n",
    "import PIL.Image as img  #https://effbot.org/imagingbook/image.htm"
   ]
  },
  {
   "cell_type": "code",
   "execution_count": 4,
   "metadata": {},
   "outputs": [],
   "source": [
    "#https://raymond-namyst.emi.u-bordeaux.fr/ens/lycee/TD2.html\n",
    "#https://calque.pagesperso-orange.fr/langages/python/imagemanipy.html\n",
    "# differents modes https://pillow.readthedocs.io/en/latest/handbook/concepts.html#modes\n",
    "\n",
    "def image_generator(length):\n",
    "    \"\"\"create a picture of length*length pixels, of two color.\n",
    "    \"\"\"\n",
    "    size = (length,length)\n",
    "    pic = img.new('1', size)\n",
    "    pix = pic.load() #get pixel data\n",
    "    for i in range(size[0]): #0 to length in rows\n",
    "        for j in range(size[1]): #0 to 255 in cols\n",
    "            pix[i,j] = (rd.choice([0,1]))\n",
    "    pic.save(\"picture1.png\")\n",
    "    #pic.show(\"picture.png\")  #display the picture\n",
    "    return"
   ]
  },
  {
   "cell_type": "code",
   "execution_count": 39,
   "metadata": {},
   "outputs": [],
   "source": [
    "def image_copy_modificator(pic, i, j, x2):\n",
    "    \"\"\"fonction to change the value x1 of pixel in row i and col j in an image (for an image in level of grey), by \n",
    "    the value x2. \n",
    "    \"\"\"\n",
    "    pic1 = img.open(pic)\n",
    "    pic2 = pic1.copy() #create a copy of original image\n",
    "    pic2.putpixel((i,j), x2) #makes the change x1 -> x2\n",
    "    pic2.save(\"picture2.png\") #save the copy"
   ]
  },
  {
   "cell_type": "markdown",
   "metadata": {},
   "source": [
    "## Compute the energy U and Us, for different markov random field (RMF)\n",
    "#### Ising RMF\n",
    "- <tex>$C_1:\\ U(x_s) = -B x_s $</tex>  \n",
    "- <tex>$C_2:\\ U_{c=(s,t)} = -\\beta x_s x_t $</tex>\n",
    "<tex>$$ U(x) = -\\sum_{c=(s,t)\\in C}{\\beta x_s x_t} - \\sum_{s\\in S}{B x_s} $$</tex>"
   ]
  },
  {
   "cell_type": "markdown",
   "metadata": {},
   "source": [
    "### Global energy  <tex>$U$</tex>"
   ]
  },
  {
   "cell_type": "code",
   "execution_count": 6,
   "metadata": {},
   "outputs": [],
   "source": [
    "def ising_U_global(beta, B):\n",
    "    \"\"\"compute the global energy U of an image acording to the ising MRF, with a neighbourhood of 4\n",
    "    \"\"\"\n",
    "    #VARIABLES\n",
    "    pic = img.open(\"picture.png\") #the picture, given by image generator\n",
    "    size = pic.size #dimentions as tuple (width, height)\n",
    "    print(size)\n",
    "    C1 = C2 = 0 #futur sum results\n",
    "    \n",
    "    #FONCTION\n",
    "    for row in range(size[0]-1):#rows -- skip last row because of C2 neighbourhood compute\n",
    "        for col in range(size[1]-1): #cols -- skip last column because of C2 neighbourhood compute\n",
    "            print(f\"(row,col)=({row},{col})\")\n",
    "            xs = pic.getpixel((row,col)) #get pixel value\n",
    "            xb = pic.getpixel((row+1,col)) #bottom neighbour\n",
    "            xr = pic.getpixel((row,col-1)) #right neighbour\n",
    "            print(xs,xb,xr)\n",
    "            C1 += -B*xs #add value of the pixel at (i,j), multiplied by -B (clique d'ordre 1)\n",
    "            C2 += (-beta*xs*xb -beta*xs*xr)\n",
    "    for col in range(size[0]): #add energy of last row's c1\n",
    "        C1 += -B*pic.getpixel((size[0]-1, col))\n",
    "        print(\"col\",(size[0]-1,col),pic.getpixel((size[0]-1, col))) #U_s of last row \n",
    "    for row in range(size[0]-1): #add energy of last column's c1\n",
    "        C1 += -B*pic.getpixel((row, size[0]-1))\n",
    "        print(\"row\",(row, size[0]-1),pic.getpixel((row, size[0]-1))) #U_s of last column\n",
    "    global_U = C1+C2\n",
    "    print(f\"global_U = {global_U}\\n C1 = {C1}\\n C2 = {C2}\")\n",
    "    return  global_U"
   ]
  },
  {
   "cell_type": "code",
   "execution_count": 11,
   "metadata": {},
   "outputs": [],
   "source": [
    "def ising_U_global_sumLoc(beta, B):\n",
    "    \"\"\"\n",
    "    \"\"\"\n",
    "    #VARIABLES\n",
    "    pic = img.open(\"picture.png\") #the picture, given by image generator\n",
    "    size = pic.size #dimentions as tuple (width, height)\n",
    "    U = 0\n",
    "    #FONCTION\n",
    "    i=0\n",
    "    for row in range(size[0]): \n",
    "        for col in range(size[1]):\n",
    "            U += ising_U_local(beta, B, row, col)\n",
    "            i+=1\n",
    "    print(f\"global energy U = {U}, i={i}\")\n",
    "    return U"
   ]
  },
  {
   "cell_type": "markdown",
   "metadata": {},
   "source": [
    "### Local energy  <tex>$U_s $</tex>\n",
    "p11 polymrf: l'énergie locale en un site est la somme des potentiels de toutes les cliques auquelles il appartient."
   ]
  },
  {
   "cell_type": "code",
   "execution_count": 36,
   "metadata": {},
   "outputs": [],
   "source": [
    "def ising_U_local(picture, beta, B, row, col):\n",
    "    \"\"\"\n",
    "    \"\"\"\n",
    "        #VARIABLES\n",
    "    pic = img.open(picture) #the picture, given by image generator\n",
    "    size = pic.size #dimentions as tuple (width, height)\n",
    "    xs = pic.getpixel((row,col)) #energy of site s\n",
    "    Us = -B*xs #energy initialised with site's energy\n",
    "    l, r, u, d = (row,col-1), (row,col+1), (row-1,col), (row+1,col) #left, right, up, down\n",
    "    \n",
    "        #FONCTION\n",
    "    for v in [l,r,u,d]:\n",
    "        try: xv = pic.getpixel(v) #if s is in the image's outile, not every neighbour would work\n",
    "        except: pass \n",
    "        else: Us += -beta*xs*xv #add clique energy to Us\n",
    "    #print(f\"local energy Us in {(row,col)} = {Us}\")\n",
    "    return Us\n",
    "            \n",
    "    "
   ]
  },
  {
   "cell_type": "code",
   "execution_count": 12,
   "metadata": {
    "scrolled": true
   },
   "outputs": [
    {
     "data": {
      "text/plain": [
       "-130305"
      ]
     },
     "execution_count": 12,
     "metadata": {},
     "output_type": "execute_result"
    }
   ],
   "source": [
    "ising_U_local(1,1,0,2)"
   ]
  },
  {
   "cell_type": "code",
   "execution_count": 13,
   "metadata": {},
   "outputs": [
    {
     "name": "stdout",
     "output_type": "stream",
     "text": [
      "global energy U = -456195, i=9\n"
     ]
    },
    {
     "data": {
      "text/plain": [
       "-456195"
      ]
     },
     "execution_count": 13,
     "metadata": {},
     "output_type": "execute_result"
    }
   ],
   "source": [
    "ising_U_global_sumLoc(1,1)"
   ]
  },
  {
   "cell_type": "code",
   "execution_count": 14,
   "metadata": {},
   "outputs": [],
   "source": [
    "image_generator(3)"
   ]
  },
  {
   "cell_type": "markdown",
   "metadata": {},
   "source": [
    "## Algorithms"
   ]
  },
  {
   "cell_type": "markdown",
   "metadata": {},
   "source": [
    "### metropolis algorithm\n",
    "> 1. choix d'un site s  \n",
    "> 2. tirage aléatoire d'une descripteur  \n",
    "> 3. calcul de la variation d'énergie  \n",
    "> 4. décision"
   ]
  },
  {
   "cell_type": "code",
   "execution_count": 69,
   "metadata": {},
   "outputs": [],
   "source": [
    "def metropolis(picture1, beta, b, n):\n",
    "    \"\"\"recursive fonction to compute the metropolis algorithm  \n",
    "    \"\"\"\n",
    "    #VARIABLES\n",
    "    pic1 = img.open(picture1) #the picture, given by image generator\n",
    "    width, height = pic1.size[0], pic1.size[1]  #dimentions pic.size return a tuple (width, height)\n",
    "    coords = [] #list of coordinates\n",
    "    for i in range(width): \n",
    "        for j in range(height): coords.append((i,j))\n",
    "    dU = 0 #initialise energy gap\n",
    "    not_change = 0 #stop condition\n",
    "\n",
    "        #FONCTION\n",
    "    for _ in range(n): #run n times     #while not_change <= 10 :\n",
    "\n",
    "        #CHOIX D'UN SITE (aléatoire ici)\n",
    "        s = rd.choice(coords) #(row, col) = (rd.randint(width), rd.randint(height))\n",
    "        xs1 = pic1.getpixel(s) \n",
    "        \n",
    "        #TIRAGE DESCRIPTEUR\n",
    "        xs2 = rd.choice((0,255))\n",
    "        \n",
    "        #VARIATION Us\n",
    "        image_copy_modificator(picture1, s[0], s[1], xs2) #create a copy \"picture2\" of image1 with value change of s \n",
    "        pic2 = img.open(\"picture2.png\")\n",
    "        U1 = ising_U_local(picture1, beta, b, s[0], s[1])\n",
    "        U2 = ising_U_local(\"picture2.png\", beta, b, s[0], s[1])\n",
    "        dU = U2-U1\n",
    "        p = exp(-beta*(dU))\n",
    "        ##\n",
    "        print(f\"p={p}, dU={dU}\")\n",
    "        \n",
    "        #DECISION\n",
    "        if dU < 0:  #global energy decreased\n",
    "            pic1.putpixel(s, xs2) \n",
    "            not_change = 0\n",
    "        else:  #global energy increased with p proba \n",
    "            if rd.random() < p: \n",
    "                pic1.putpixel(s, xs2) \n",
    "                not_change = 0\n",
    "            else:\n",
    "                not_change += 1"
   ]
  },
  {
   "cell_type": "code",
   "execution_count": 71,
   "metadata": {
    "scrolled": true
   },
   "outputs": [
    {
     "name": "stdout",
     "output_type": "stream",
     "text": [
      "p=0.0, dU=130305\n"
     ]
    },
    {
     "ename": "OverflowError",
     "evalue": "math range error",
     "output_type": "error",
     "traceback": [
      "\u001b[1;31m---------------------------------------------------------------------------\u001b[0m",
      "\u001b[1;31mOverflowError\u001b[0m                             Traceback (most recent call last)",
      "\u001b[1;32m<ipython-input-71-b2f44d99bb44>\u001b[0m in \u001b[0;36m<module>\u001b[1;34m\u001b[0m\n\u001b[1;32m----> 1\u001b[1;33m \u001b[0mmetropolis\u001b[0m\u001b[1;33m(\u001b[0m\u001b[1;34m\"picture.png\"\u001b[0m\u001b[1;33m,\u001b[0m \u001b[1;36m1\u001b[0m\u001b[1;33m,\u001b[0m \u001b[1;36m1\u001b[0m\u001b[1;33m,\u001b[0m \u001b[1;36m2\u001b[0m\u001b[1;33m)\u001b[0m\u001b[1;33m\u001b[0m\u001b[1;33m\u001b[0m\u001b[0m\n\u001b[0m",
      "\u001b[1;32m<ipython-input-69-79247e80aaa2>\u001b[0m in \u001b[0;36mmetropolis\u001b[1;34m(picture1, beta, b, n)\u001b[0m\n\u001b[0;32m     27\u001b[0m         \u001b[0mU2\u001b[0m \u001b[1;33m=\u001b[0m \u001b[0mising_U_local\u001b[0m\u001b[1;33m(\u001b[0m\u001b[1;34m\"picture2.png\"\u001b[0m\u001b[1;33m,\u001b[0m \u001b[0mbeta\u001b[0m\u001b[1;33m,\u001b[0m \u001b[0mb\u001b[0m\u001b[1;33m,\u001b[0m \u001b[0ms\u001b[0m\u001b[1;33m[\u001b[0m\u001b[1;36m0\u001b[0m\u001b[1;33m]\u001b[0m\u001b[1;33m,\u001b[0m \u001b[0ms\u001b[0m\u001b[1;33m[\u001b[0m\u001b[1;36m1\u001b[0m\u001b[1;33m]\u001b[0m\u001b[1;33m)\u001b[0m\u001b[1;33m\u001b[0m\u001b[1;33m\u001b[0m\u001b[0m\n\u001b[0;32m     28\u001b[0m         \u001b[0mdU\u001b[0m \u001b[1;33m=\u001b[0m \u001b[0mU2\u001b[0m\u001b[1;33m-\u001b[0m\u001b[0mU1\u001b[0m\u001b[1;33m\u001b[0m\u001b[1;33m\u001b[0m\u001b[0m\n\u001b[1;32m---> 29\u001b[1;33m         \u001b[0mp\u001b[0m \u001b[1;33m=\u001b[0m \u001b[0mexp\u001b[0m\u001b[1;33m(\u001b[0m\u001b[1;33m-\u001b[0m\u001b[0mbeta\u001b[0m\u001b[1;33m*\u001b[0m\u001b[1;33m(\u001b[0m\u001b[0mdU\u001b[0m\u001b[1;33m)\u001b[0m\u001b[1;33m)\u001b[0m\u001b[1;33m\u001b[0m\u001b[1;33m\u001b[0m\u001b[0m\n\u001b[0m\u001b[0;32m     30\u001b[0m         \u001b[1;31m##\u001b[0m\u001b[1;33m\u001b[0m\u001b[1;33m\u001b[0m\u001b[1;33m\u001b[0m\u001b[0m\n\u001b[0;32m     31\u001b[0m         \u001b[0mprint\u001b[0m\u001b[1;33m(\u001b[0m\u001b[1;34mf\"p={p}, dU={dU}\"\u001b[0m\u001b[1;33m)\u001b[0m\u001b[1;33m\u001b[0m\u001b[1;33m\u001b[0m\u001b[0m\n",
      "\u001b[1;31mOverflowError\u001b[0m: math range error"
     ]
    }
   ],
   "source": [
    "metropolis(\"picture.png\", 1, 1, 2)"
   ]
  },
  {
   "cell_type": "code",
   "execution_count": 72,
   "metadata": {
    "scrolled": true
   },
   "outputs": [
    {
     "ename": "OverflowError",
     "evalue": "math range error",
     "output_type": "error",
     "traceback": [
      "\u001b[1;31m---------------------------------------------------------------------------\u001b[0m",
      "\u001b[1;31mOverflowError\u001b[0m                             Traceback (most recent call last)",
      "\u001b[1;32m<ipython-input-72-4bef8f626e76>\u001b[0m in \u001b[0;36m<module>\u001b[1;34m\u001b[0m\n\u001b[1;32m----> 1\u001b[1;33m \u001b[0mexp\u001b[0m\u001b[1;33m(\u001b[0m\u001b[1;36m13305\u001b[0m\u001b[1;33m)\u001b[0m\u001b[1;33m\u001b[0m\u001b[1;33m\u001b[0m\u001b[0m\n\u001b[0m",
      "\u001b[1;31mOverflowError\u001b[0m: math range error"
     ]
    }
   ],
   "source": [
    "exp(13305)"
   ]
  },
  {
   "cell_type": "code",
   "execution_count": 16,
   "metadata": {},
   "outputs": [
    {
     "data": {
      "text/plain": [
       "50"
      ]
     },
     "execution_count": 16,
     "metadata": {},
     "output_type": "execute_result"
    }
   ],
   "source": [
    "rd.choice([0,50])"
   ]
  },
  {
   "cell_type": "markdown",
   "metadata": {},
   "source": [
    "### Gibbs algoritm\n",
    "> 1. choix d'un site s\n",
    "> 2. calcul de la probabilité conditionnelle locale <tex>$P(X_s = x_s | V_s)$</tex> \n",
    "> 3. mise à jour du site par tirage aléatoire selon la loi <tex>$P(X_s = x_s | V_s)$</tex>\n"
   ]
  },
  {
   "cell_type": "code",
   "execution_count": 2,
   "metadata": {},
   "outputs": [],
   "source": [
    "def gibbs():\n",
    "    \"\"\"recursive fonction to compute the gibbs' parser\n",
    "    \"\"\"\n",
    "    return"
   ]
  },
  {
   "cell_type": "code",
   "execution_count": null,
   "metadata": {},
   "outputs": [],
   "source": []
  }
 ],
 "metadata": {
  "kernelspec": {
   "display_name": "Python 3",
   "language": "python",
   "name": "python3"
  },
  "language_info": {
   "codemirror_mode": {
    "name": "ipython",
    "version": 3
   },
   "file_extension": ".py",
   "mimetype": "text/x-python",
   "name": "python",
   "nbconvert_exporter": "python",
   "pygments_lexer": "ipython3",
   "version": "3.7.6"
  }
 },
 "nbformat": 4,
 "nbformat_minor": 4
}
