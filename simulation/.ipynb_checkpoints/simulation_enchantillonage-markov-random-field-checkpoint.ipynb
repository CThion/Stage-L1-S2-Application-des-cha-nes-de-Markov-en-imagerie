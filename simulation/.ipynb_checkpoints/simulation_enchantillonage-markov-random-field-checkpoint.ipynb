{
 "cells": [
  {
   "cell_type": "markdown",
   "metadata": {},
   "source": [
    "# Simulation of metropolis and Gibbs algorithms"
   ]
  },
  {
   "cell_type": "markdown",
   "metadata": {},
   "source": [
    "https://www.markdownguide.org/basic-syntax"
   ]
  },
  {
   "cell_type": "markdown",
   "metadata": {},
   "source": [
    "## Manage pictures with python "
   ]
  },
  {
   "cell_type": "code",
   "execution_count": 1,
   "metadata": {},
   "outputs": [],
   "source": [
    "import random as rd  #https://www.w3schools.com/python/module_random.asp\n",
    "from math import *\n",
    "\n",
    "import PIL.Image as img  \n",
    "#https://effbot.org/imagingbook/image.htm    \n",
    "#https://pillow.readthedocs.io/en/4.2.x/reference/Image.html#PIL.Image.Image.load"
   ]
  },
  {
   "cell_type": "code",
   "execution_count": 2,
   "metadata": {},
   "outputs": [],
   "source": [
    "#https://raymond-namyst.emi.u-bordeaux.fr/ens/lycee/TD2.html\n",
    "#https://calque.pagesperso-orange.fr/langages/python/imagemanipy.html\n",
    "# differents modes https://pillow.readthedocs.io/en/latest/handbook/concepts.html#modes\n",
    "\n",
    "def image_generator(length):\n",
    "    \"\"\"create a picture of length*length pixels, of two color.\n",
    "    \"\"\"\n",
    "    size = (length,length)\n",
    "    pic = img.new('1', size)\n",
    "    pix = pic.load() #get pixel data\n",
    "    for i in range(size[0]): #0 to length in rows\n",
    "        for j in range(size[1]): #0 to 255 in cols\n",
    "            pix[i,j] = (rd.choice([0,1]))\n",
    "    pic.save(\"picture1.png\")\n",
    "    #pic.show(\"picture.png\")  #display the picture\n",
    "    return"
   ]
  },
  {
   "cell_type": "code",
   "execution_count": 3,
   "metadata": {},
   "outputs": [],
   "source": [
    "def image_copy_modificator(pic, i, j, x2):\n",
    "    \"\"\"fonction to change the value x1 of pixel in row i and col j in an image (for an image in level of grey), by \n",
    "    the value x2. \n",
    "    \"\"\"\n",
    "    pic1 = img.open(pic)\n",
    "    pic2 = pic1.copy() #create a copy of original image\n",
    "    pic2.putpixel((i,j), x2) #makes the change x1 -> x2\n",
    "    pic2.save(\"picture2.png\") #save the copy"
   ]
  },
  {
   "cell_type": "markdown",
   "metadata": {},
   "source": [
    "## Compute the energy U and Us, for different markov random field (RMF)\n",
    "#### Ising RMF\n",
    "- <tex>$C_1:\\ U(x_s) = -B x_s $</tex>  \n",
    "- <tex>$C_2:\\ U_{c=(s,t)} = -\\beta x_s x_t $</tex>\n",
    "<tex>$$ U(x) = -\\sum_{c=(s,t)\\in C}{\\beta x_s x_t} - \\sum_{s\\in S}{B x_s} $$</tex>"
   ]
  },
  {
   "cell_type": "markdown",
   "metadata": {},
   "source": [
    "### Global energy  <tex>$U$</tex>"
   ]
  },
  {
   "cell_type": "code",
   "execution_count": 9,
   "metadata": {},
   "outputs": [],
   "source": [
    "def ising_U_global(picture, beta, B):\n",
    "    \"\"\"Compute the global energy U of an image by totaling every local energy Us (one per pixel)\n",
    "    \"\"\"\n",
    "    #VARIABLES\n",
    "    pic = img.open(picture) #the picture, given by image generator\n",
    "    size = pic.size #dimentions as tuple (width, height)\n",
    "    U = 0\n",
    "    #FONCTION\n",
    "    for row in range(size[0]): \n",
    "        for col in range(size[1]):\n",
    "            U += ising_U_local(picture, beta, B, row, col)\n",
    "    return U"
   ]
  },
  {
   "cell_type": "markdown",
   "metadata": {},
   "source": [
    "### Local energy  <tex>$U_s $</tex>\n",
    "p11 polymrf: l'énergie locale en un site est la somme des potentiels de toutes les cliques auquelles il appartient."
   ]
  },
  {
   "cell_type": "code",
   "execution_count": 50,
   "metadata": {},
   "outputs": [],
   "source": [
    "def ising_U_local_tore(picture, beta, B, row, col):\n",
    "    \"\"\"\n",
    "    \"\"\"\n",
    "        #VARIABLES\n",
    "    pic = img.open(picture) #the picture, given by image generator\n",
    "    size = pic.size #dimentions as tuple (width, height)\n",
    "    xs = -1+pic.getpixel((row,col))*2/255 #energy of site s, with translation to (-1,1) value range\n",
    "    print(xs)\n",
    "    Us = -B*xs #energy initialised with site's energy\n",
    "    l, r, u, d = (row,col-1), (row,col+1), (row-1,col), (row+1,col) #left, right, up, down\n",
    "    \n",
    "        #FONCTION\n",
    "    for v in [l,r,u,d]:\n",
    "        xv = -1+pic.getpixel(v)*2/255 #if s is in the image's outile, not every neighbour would work \n",
    "        Us += -beta*xs*xv #add clique energy to Us \n",
    "        #print(f\"xv={xv}\") \n",
    "    #print(f\"local energy Us in {(row,col)} = {Us}\")\n",
    "    return Us\n",
    "            \n",
    "    "
   ]
  },
  {
   "cell_type": "code",
   "execution_count": 61,
   "metadata": {},
   "outputs": [],
   "source": [
    "def ising_U_local(picture, beta, B, col, row):\n",
    "    \"\"\"\n",
    "    \"\"\"\n",
    "        #VARIABLES\n",
    "    pic = img.open(picture) #the picture, given by image generator\n",
    "    size = pic.size #dimentions as tuple (width, height)\n",
    "    xs = -1+pic.getpixel((row,col))*2//255 #energy of site s, with translation to (-1,1) value range\n",
    "    Us = -B*xs #energy initialised with site's energy\n",
    "    \n",
    "    u, d, l, r = (col,row-1), (col,row+1), (col-1,row), (col+1,row) #down, up, left, right\n",
    "    xu, xd, xl, xr, = pic.getpixel(u), pic.getpixel(d), pic.getpixel(l), pic.getpixel(r)\n",
    "    u_rip, d_rip, l_rip, r_rip = (col, 0), (col, size[1]), (0, row), (size[0], row)\n",
    "    V = [u,d,l,r] #list of neightbour coordinates\n",
    "    xV = [xu, xd, xl, xr] #lsit of neighbour value\n",
    "    RIP = [u_rip, d_rip, l_rip, r_rip] #list of try condition\n",
    "    \n",
    "    for (v, rip, xv) in zip(V, RIP, xV): #possibly four neightbours\n",
    "        try: v>=rip #avoid u=(col,-1)\n",
    "        except ExplicitException: del xV[xV.index(xv)] # then xv wont be used in Us compute\n",
    "        try: v<=rip\n",
    "        except ExplicitException: del xV[V.index(xv)] # then xv wont be used in Us compute\n",
    "    for xv in xV:\n",
    "        Us += -beta*xs*xv\n",
    "    print(f\"(V, RIP, xV)={(V, RIP, xV)}\")\n",
    "    return Us"
   ]
  },
  {
   "cell_type": "code",
   "execution_count": 62,
   "metadata": {},
   "outputs": [
    {
     "name": "stdout",
     "output_type": "stream",
     "text": [
      "(V, RIP, xV)=([(0, -1), (0, 1), (-1, 0), (1, 0)], [(0, 0), (0, 3), (0, 0), (3, 0)], [255, 255, 255, 0])\n"
     ]
    },
    {
     "data": {
      "text/plain": [
       "-766"
      ]
     },
     "execution_count": 62,
     "metadata": {},
     "output_type": "execute_result"
    }
   ],
   "source": [
    "ising_U_local(\"picture.png\",1,1,0,0)"
   ]
  },
  {
   "cell_type": "code",
   "execution_count": 63,
   "metadata": {},
   "outputs": [
    {
     "data": {
      "text/plain": [
       "False"
      ]
     },
     "execution_count": 63,
     "metadata": {},
     "output_type": "execute_result"
    }
   ],
   "source": [
    "(0,-1)>(0,0)"
   ]
  },
  {
   "cell_type": "code",
   "execution_count": 44,
   "metadata": {},
   "outputs": [
    {
     "ename": "NameError",
     "evalue": "name 'nb' is not defined",
     "output_type": "error",
     "traceback": [
      "\u001b[1;31m---------------------------------------------------------------------------\u001b[0m",
      "\u001b[1;31mNameError\u001b[0m                                 Traceback (most recent call last)",
      "\u001b[1;32m<ipython-input-44-ce854fdf9dae>\u001b[0m in \u001b[0;36m<module>\u001b[1;34m\u001b[0m\n\u001b[0;32m      1\u001b[0m \u001b[0mtt\u001b[0m\u001b[1;33m=\u001b[0m\u001b[1;33m[\u001b[0m\u001b[1;36m0\u001b[0m\u001b[1;33m,\u001b[0m\u001b[1;36m0\u001b[0m\u001b[1;33m,\u001b[0m\u001b[1;36m1\u001b[0m\u001b[1;33m,\u001b[0m\u001b[1;36m1\u001b[0m\u001b[1;33m,\u001b[0m\u001b[1;36m2\u001b[0m\u001b[1;33m,\u001b[0m\u001b[1;36m2\u001b[0m\u001b[1;33m,\u001b[0m\u001b[1;36m3\u001b[0m\u001b[1;33m,\u001b[0m\u001b[1;36m3\u001b[0m\u001b[1;33m,\u001b[0m\u001b[1;36m4\u001b[0m\u001b[1;33m,\u001b[0m\u001b[1;36m4\u001b[0m\u001b[1;33m,\u001b[0m\u001b[1;36m5\u001b[0m\u001b[1;33m,\u001b[0m\u001b[1;36m5\u001b[0m\u001b[1;33m]\u001b[0m\u001b[1;33m\u001b[0m\u001b[1;33m\u001b[0m\u001b[0m\n\u001b[1;32m----> 2\u001b[1;33m \u001b[1;33m[\u001b[0m\u001b[0mnb\u001b[0m \u001b[1;32mfor\u001b[0m \u001b[0mpair\u001b[0m \u001b[1;32min\u001b[0m \u001b[0mtt\u001b[0m\u001b[1;33m]\u001b[0m\u001b[1;33m\u001b[0m\u001b[1;33m\u001b[0m\u001b[0m\n\u001b[0m\u001b[0;32m      3\u001b[0m \u001b[1;31m#print(f\"pair={pair}, impair={impair}\")\u001b[0m\u001b[1;33m\u001b[0m\u001b[1;33m\u001b[0m\u001b[1;33m\u001b[0m\u001b[0m\n",
      "\u001b[1;32m<ipython-input-44-ce854fdf9dae>\u001b[0m in \u001b[0;36m<listcomp>\u001b[1;34m(.0)\u001b[0m\n\u001b[0;32m      1\u001b[0m \u001b[0mtt\u001b[0m\u001b[1;33m=\u001b[0m\u001b[1;33m[\u001b[0m\u001b[1;36m0\u001b[0m\u001b[1;33m,\u001b[0m\u001b[1;36m0\u001b[0m\u001b[1;33m,\u001b[0m\u001b[1;36m1\u001b[0m\u001b[1;33m,\u001b[0m\u001b[1;36m1\u001b[0m\u001b[1;33m,\u001b[0m\u001b[1;36m2\u001b[0m\u001b[1;33m,\u001b[0m\u001b[1;36m2\u001b[0m\u001b[1;33m,\u001b[0m\u001b[1;36m3\u001b[0m\u001b[1;33m,\u001b[0m\u001b[1;36m3\u001b[0m\u001b[1;33m,\u001b[0m\u001b[1;36m4\u001b[0m\u001b[1;33m,\u001b[0m\u001b[1;36m4\u001b[0m\u001b[1;33m,\u001b[0m\u001b[1;36m5\u001b[0m\u001b[1;33m,\u001b[0m\u001b[1;36m5\u001b[0m\u001b[1;33m]\u001b[0m\u001b[1;33m\u001b[0m\u001b[1;33m\u001b[0m\u001b[0m\n\u001b[1;32m----> 2\u001b[1;33m \u001b[1;33m[\u001b[0m\u001b[0mnb\u001b[0m \u001b[1;32mfor\u001b[0m \u001b[0mpair\u001b[0m \u001b[1;32min\u001b[0m \u001b[0mtt\u001b[0m\u001b[1;33m]\u001b[0m\u001b[1;33m\u001b[0m\u001b[1;33m\u001b[0m\u001b[0m\n\u001b[0m\u001b[0;32m      3\u001b[0m \u001b[1;31m#print(f\"pair={pair}, impair={impair}\")\u001b[0m\u001b[1;33m\u001b[0m\u001b[1;33m\u001b[0m\u001b[1;33m\u001b[0m\u001b[0m\n",
      "\u001b[1;31mNameError\u001b[0m: name 'nb' is not defined"
     ]
    }
   ],
   "source": [
    "tt=[0,0,1,1,2,2,3,3,4,4,5,5]\n",
    "[nb for pair in tt]\n",
    "#print(f\"pair={pair}, impair={impair}\")"
   ]
  },
  {
   "cell_type": "code",
   "execution_count": 32,
   "metadata": {},
   "outputs": [
    {
     "data": {
      "text/plain": [
       "True"
      ]
     },
     "execution_count": 32,
     "metadata": {},
     "output_type": "execute_result"
    }
   ],
   "source": [
    "(1,1)>=(0,1)"
   ]
  },
  {
   "cell_type": "code",
   "execution_count": 16,
   "metadata": {
    "scrolled": true
   },
   "outputs": [
    {
     "name": "stdout",
     "output_type": "stream",
     "text": [
      "1.0\n",
      "xv=1.0\n",
      "xv=1.0\n",
      "xv=-1.0\n",
      "xv=-1.0\n"
     ]
    },
    {
     "data": {
      "text/plain": [
       "-1.0"
      ]
     },
     "execution_count": 16,
     "metadata": {},
     "output_type": "execute_result"
    }
   ],
   "source": [
    "ising_U_local('picture.png', 1, 1, 0, 0)"
   ]
  },
  {
   "cell_type": "code",
   "execution_count": 49,
   "metadata": {},
   "outputs": [
    {
     "data": {
      "text/plain": [
       "255"
      ]
     },
     "execution_count": 49,
     "metadata": {},
     "output_type": "execute_result"
    }
   ],
   "source": [
    "c.getpixel((0,0))"
   ]
  },
  {
   "cell_type": "code",
   "execution_count": 37,
   "metadata": {},
   "outputs": [
    {
     "name": "stdout",
     "output_type": "stream",
     "text": [
      "0\n"
     ]
    }
   ],
   "source": [
    "c = img.open(\"picture.png\")\n",
    "print(c.getpixel((0,2)))\n",
    "c.putpixel((0,2),1)\n",
    "c.save(\"picture.png\")\n",
    "c.show(\"picture.png\")"
   ]
  },
  {
   "cell_type": "code",
   "execution_count": null,
   "metadata": {},
   "outputs": [],
   "source": []
  },
  {
   "cell_type": "markdown",
   "metadata": {},
   "source": [
    "## Algorithms"
   ]
  },
  {
   "cell_type": "markdown",
   "metadata": {},
   "source": [
    "### metropolis algorithm\n",
    "> 1. choix d'un site s  \n",
    "> 2. tirage aléatoire d'une descripteur  \n",
    "> 3. calcul de la variation d'énergie  \n",
    "> 4. décision"
   ]
  },
  {
   "cell_type": "code",
   "execution_count": 7,
   "metadata": {},
   "outputs": [],
   "source": [
    "def metropolis(picture1, beta, B, n):\n",
    "    \"\"\"fonction to compute the metropolis algorithm\n",
    "    \"\"\"\n",
    "    #VARIABLES\n",
    "    pic1 = img.open(picture1) #the picture, given by image generator\n",
    "    width, height = pic1.size[0], pic1.size[1]  #dimentions pic.size return a tuple (width, height)\n",
    "    coords = [] #list of coordinates\n",
    "    for i in range(width): \n",
    "        for j in range(height): coords.append((i,j))\n",
    "    dU = 0 #initialise energy gap\n",
    "    not_change = 0 #stop condition\n",
    "\n",
    "        #FONCTION\n",
    "    for _ in range(n): #run n times     #while not_change <= 10 :\n",
    "\n",
    "        #CHOIX D'UN SITE (aléatoire ici)\n",
    "        s = rd.choice(coords) #(row, col) = (rd.randint(width), rd.randint(height))\n",
    "        xs1 = pic1.getpixel(s) \n",
    "        \n",
    "        #TIRAGE DESCRIPTEUR\n",
    "        xs2 = rd.choice((0,255))\n",
    "        \n",
    "        #VARIATION Us\n",
    "        image_copy_modificator(picture1, s[0], s[1], xs2) #create a copy \"picture2\" of image1 with value change of s \n",
    "        pic2 = img.open(\"picture2.png\")\n",
    "        U1 = ising_U_local(picture1, beta, B, s[0], s[1])\n",
    "        U2 = ising_U_local(\"picture2.png\", beta, B, s[0], s[1])\n",
    "        dU = U2-U1\n",
    "        \n",
    "        #DECISION\n",
    "        if dU < 0:  #global energy decreased\n",
    "            pic1.putpixel(s, xs2) \n",
    "            not_change = 0\n",
    "        else:  #global energy increased with p proba \n",
    "            continue\n",
    "            p = exp(-beta*(dU))\n",
    "            if rd.random() < p: \n",
    "                pic1.putpixel(s, xs2) \n",
    "                not_change = 0\n",
    "            else:\n",
    "                not_change += 1\n",
    "        print(f\"dU={dU}, U_global = {ising_U_global_sumLoc(picture1, beta, B)}\")"
   ]
  },
  {
   "cell_type": "code",
   "execution_count": 105,
   "metadata": {
    "scrolled": true
   },
   "outputs": [
    {
     "name": "stdout",
     "output_type": "stream",
     "text": [
      "global energy U = -5731890\n",
      "dU=-130305, U_global = -5731890\n",
      "global energy U = -5731890\n",
      "dU=-65280, U_global = -5731890\n",
      "global energy U = -5731890\n",
      "dU=-255, U_global = -5731890\n",
      "global energy U = -5731890\n",
      "dU=-130305, U_global = -5731890\n",
      "global energy U = -5731890\n",
      "dU=-130305, U_global = -5731890\n",
      "global energy U = -5731890\n",
      "dU=-130305, U_global = -5731890\n",
      "global energy U = -5731890\n",
      "dU=-130305, U_global = -5731890\n",
      "global energy U = -5731890\n",
      "dU=-260355, U_global = -5731890\n",
      "global energy U = -5731890\n",
      "dU=-130305, U_global = -5731890\n",
      "global energy U = -5731890\n",
      "dU=-130305, U_global = -5731890\n",
      "global energy U = -5731890\n",
      "dU=-130305, U_global = -5731890\n",
      "global energy U = -5731890\n",
      "dU=-195330, U_global = -5731890\n",
      "global energy U = -5731890\n",
      "dU=-65280, U_global = -5731890\n",
      "global energy U = -5731890\n",
      "dU=-130305, U_global = -5731890\n",
      "global energy U = -5731890\n",
      "dU=-130305, U_global = -5731890\n",
      "global energy U = -5731890\n",
      "dU=-130305, U_global = -5731890\n",
      "global energy U = -5731890\n",
      "dU=-130305, U_global = -5731890\n",
      "global energy U = -5731890\n",
      "dU=-65280, U_global = -5731890\n",
      "global energy U = -5731890\n",
      "dU=-130305, U_global = -5731890\n",
      "global energy U = -5731890\n",
      "dU=-130305, U_global = -5731890\n",
      "global energy U = -5731890\n",
      "dU=-260355, U_global = -5731890\n",
      "global energy U = -5731890\n",
      "dU=-65280, U_global = -5731890\n",
      "global energy U = -5731890\n",
      "dU=-195330, U_global = -5731890\n",
      "global energy U = -5731890\n",
      "dU=-195330, U_global = -5731890\n"
     ]
    }
   ],
   "source": [
    "metropolis(\"picture1.png\", 1, 1, 100)"
   ]
  },
  {
   "cell_type": "code",
   "execution_count": 72,
   "metadata": {
    "scrolled": true
   },
   "outputs": [
    {
     "ename": "OverflowError",
     "evalue": "math range error",
     "output_type": "error",
     "traceback": [
      "\u001b[1;31m---------------------------------------------------------------------------\u001b[0m",
      "\u001b[1;31mOverflowError\u001b[0m                             Traceback (most recent call last)",
      "\u001b[1;32m<ipython-input-72-4bef8f626e76>\u001b[0m in \u001b[0;36m<module>\u001b[1;34m\u001b[0m\n\u001b[1;32m----> 1\u001b[1;33m \u001b[0mexp\u001b[0m\u001b[1;33m(\u001b[0m\u001b[1;36m13305\u001b[0m\u001b[1;33m)\u001b[0m\u001b[1;33m\u001b[0m\u001b[1;33m\u001b[0m\u001b[0m\n\u001b[0m",
      "\u001b[1;31mOverflowError\u001b[0m: math range error"
     ]
    }
   ],
   "source": [
    "exp(13305)"
   ]
  },
  {
   "cell_type": "code",
   "execution_count": 16,
   "metadata": {},
   "outputs": [
    {
     "data": {
      "text/plain": [
       "50"
      ]
     },
     "execution_count": 16,
     "metadata": {},
     "output_type": "execute_result"
    }
   ],
   "source": [
    "rd.choice([0,50])"
   ]
  },
  {
   "cell_type": "markdown",
   "metadata": {},
   "source": [
    "### Gibbs algoritm\n",
    "> 1. choix d'un site s\n",
    "> 2. calcul de la probabilité conditionnelle locale <tex>$P(X_s = x_s | V_s)$</tex> \n",
    "> 3. mise à jour du site par tirage aléatoire selon la loi <tex>$P(X_s = x_s | V_s)$</tex>\n"
   ]
  },
  {
   "cell_type": "code",
   "execution_count": 2,
   "metadata": {},
   "outputs": [],
   "source": [
    "def gibbs():\n",
    "    \"\"\"recursive fonction to compute the gibbs' parser\n",
    "    \"\"\"\n",
    "    return"
   ]
  },
  {
   "cell_type": "code",
   "execution_count": null,
   "metadata": {},
   "outputs": [],
   "source": []
  }
 ],
 "metadata": {
  "kernelspec": {
   "display_name": "Python 3",
   "language": "python",
   "name": "python3"
  },
  "language_info": {
   "codemirror_mode": {
    "name": "ipython",
    "version": 3
   },
   "file_extension": ".py",
   "mimetype": "text/x-python",
   "name": "python",
   "nbconvert_exporter": "python",
   "pygments_lexer": "ipython3",
   "version": "3.7.6"
  }
 },
 "nbformat": 4,
 "nbformat_minor": 4
}
