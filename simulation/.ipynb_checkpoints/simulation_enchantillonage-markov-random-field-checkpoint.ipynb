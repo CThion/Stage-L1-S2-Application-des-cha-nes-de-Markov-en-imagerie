{
 "cells": [
  {
   "cell_type": "markdown",
   "metadata": {},
   "source": [
    "# Simulation of metropolis and Gibbs algorithms"
   ]
  },
  {
   "cell_type": "markdown",
   "metadata": {},
   "source": [
    "https://www.markdownguide.org/basic-syntax"
   ]
  },
  {
   "cell_type": "markdown",
   "metadata": {},
   "source": [
    "## Manage pictures with python "
   ]
  },
  {
   "cell_type": "code",
   "execution_count": 1,
   "metadata": {},
   "outputs": [],
   "source": [
    "import random as rd  #https://www.w3schools.com/python/module_random.asp\n",
    "from math import *\n",
    "\n",
    "import PIL.Image as img  \n",
    "#https://effbot.org/imagingbook/image.htm    \n",
    "#https://pillow.readthedocs.io/en/4.2.x/reference/Image.html#PIL.Image.Image.load"
   ]
  },
  {
   "cell_type": "code",
   "execution_count": 20,
   "metadata": {},
   "outputs": [],
   "source": [
    "#https://raymond-namyst.emi.u-bordeaux.fr/ens/lycee/TD2.html\n",
    "#https://calque.pagesperso-orange.fr/langages/python/imagemanipy.html\n",
    "# differents modes https://pillow.readthedocs.io/en/latest/handbook/concepts.html#modes\n",
    "\n",
    "def image_generator(length, name):\n",
    "    \"\"\"create a picture of length*length pixels, of two color.\n",
    "    \"\"\"\n",
    "    size = (length,length)\n",
    "    pic = img.new('1', size)\n",
    "    pix = pic.load() #get pixel data\n",
    "    for i in range(size[0]): #0 to length in rows\n",
    "        for j in range(size[1]): #0 to 255 in cols\n",
    "            pix[i,j] = (rd.choice([0,1]))\n",
    "    pic.save(name+\".png\")\n",
    "    #pic.show(\"picture.png\")  #display the picture\n",
    "    return"
   ]
  },
  {
   "cell_type": "code",
   "execution_count": 24,
   "metadata": {},
   "outputs": [],
   "source": [
    "#image_generator(8,\"picture\")"
   ]
  },
  {
   "cell_type": "code",
   "execution_count": 43,
   "metadata": {},
   "outputs": [],
   "source": [
    "def image_modificator(pic, i, j, x2):\n",
    "    \"\"\"\n",
    "    \"\"\"\n",
    "    x2 = (x2+1)*255//2\n",
    "    pic.putpixel((i,j), x2)"
   ]
  },
  {
   "cell_type": "code",
   "execution_count": 3,
   "metadata": {},
   "outputs": [],
   "source": [
    "def image_copy_modificator(pic, i, j, x2):\n",
    "    \"\"\"fonction to change the value x1 of pixel in row i and col j in an image (for an image in level of grey), by \n",
    "    the value x2. \n",
    "    \"\"\"\n",
    "    pic1 = img.open(pic)\n",
    "    pic2 = pic1.copy() #create a copy of original image\n",
    "    pic2.putpixel((i,j), x2) #makes the change x1 -> x2\n",
    "    pic2.save(\"picture2.png\") #save the copy"
   ]
  },
  {
   "cell_type": "code",
   "execution_count": 25,
   "metadata": {},
   "outputs": [],
   "source": [
    "#image_copy_modificator(\"picture.png\",7,7,255)"
   ]
  },
  {
   "cell_type": "markdown",
   "metadata": {},
   "source": [
    "## Compute the energy U and Us, for different markov random field (RMF)\n",
    "#### Ising RMF\n",
    "- <tex>$C_1:\\ U(x_s) = -B x_s $</tex>  \n",
    "- <tex>$C_2:\\ U_{c=(s,t)} = -\\beta x_s x_t $</tex>\n",
    "<tex>$$ U(x) = -\\sum_{c=(s,t)\\in C}{\\beta x_s x_t} - \\sum_{s\\in S}{B x_s} $$</tex>"
   ]
  },
  {
   "cell_type": "markdown",
   "metadata": {},
   "source": [
    "### Global energy  <tex>$U$</tex>"
   ]
  },
  {
   "cell_type": "code",
   "execution_count": 68,
   "metadata": {},
   "outputs": [],
   "source": [
    "def ising_U_global(picture, beta, B):\n",
    "    \"\"\"Compute the global energy U of an image by totaling every local energy Us (one per pixel)\n",
    "    \"\"\"\n",
    "    #VARIABLES\n",
    "    pic = img.open(picture) #the picture, given by image generator\n",
    "    size = pic.size #dimentions as tuple (width, height)\n",
    "    U = 0\n",
    "    #FONCTION\n",
    "    for col in range(size[0]): \n",
    "        for row in range(size[1]):\n",
    "            U += ising_U_local_tore(picture, beta, B, col, row)\n",
    "            print(\"\\n\")\n",
    "    return U"
   ]
  },
  {
   "cell_type": "markdown",
   "metadata": {},
   "source": [
    "### Local energy  <tex>$U_s $</tex>\n",
    "p11 polymrf: l'énergie locale en un site est la somme des potentiels de toutes les cliques auquelles il appartient."
   ]
  },
  {
   "cell_type": "code",
   "execution_count": 75,
   "metadata": {},
   "outputs": [],
   "source": [
    "def ising_U_local_tore(picture, beta, B, col, row):\n",
    "    \"\"\"\n",
    "    \"\"\"\n",
    "    \n",
    "        #VARIABLES\n",
    "    pic = img.open(picture) #the picture, given by image generator\n",
    "    size = pic.size #dimentions as tuple (width, height)\n",
    "    \n",
    "    assert((row,col)<size), \"les coordonnées demandées sont en dehors du cadre des sites\"\n",
    "    \n",
    "    xs = -1+pic.getpixel((row,col))*2/255 #energy of site s, with translation to (-1,1) value range\n",
    "    Us = -B*xs #energy initialised with site's energy\n",
    "    d, u, l, r = (col,row-1), (col,row+1), (col-1,row), (col+1,row) #down, up, left, right\n",
    "    \n",
    "        #FONCTION\n",
    "    for v in [d,u,l,r]:\n",
    "        print(v)\n",
    "        xv = -1+pic.getpixel(v)*2/255 #if s is in the image's outile, not every neighbour would work \n",
    "        Us += -beta*xs*xv #add clique energy to Us \n",
    "        #print(f\"xv={xv}\") \n",
    "    #print(f\"local energy Us in {(row,col)} = {Us}\")\n",
    "    return Us\n",
    "            \n",
    "    "
   ]
  },
  {
   "cell_type": "code",
   "execution_count": 78,
   "metadata": {},
   "outputs": [
    {
     "name": "stdout",
     "output_type": "stream",
     "text": [
      "(7, 6)\n",
      "(7, 8)\n"
     ]
    },
    {
     "ename": "IndexError",
     "evalue": "image index out of range",
     "output_type": "error",
     "traceback": [
      "\u001b[1;31m---------------------------------------------------------------------------\u001b[0m",
      "\u001b[1;31mIndexError\u001b[0m                                Traceback (most recent call last)",
      "\u001b[1;32m<ipython-input-78-a939ec220635>\u001b[0m in \u001b[0;36m<module>\u001b[1;34m\u001b[0m\n\u001b[1;32m----> 1\u001b[1;33m \u001b[0mising_U_local_tore\u001b[0m\u001b[1;33m(\u001b[0m\u001b[1;34m\"picture.png\"\u001b[0m\u001b[1;33m,\u001b[0m\u001b[1;36m1\u001b[0m\u001b[1;33m,\u001b[0m\u001b[1;36m1\u001b[0m\u001b[1;33m,\u001b[0m\u001b[1;36m7\u001b[0m\u001b[1;33m,\u001b[0m\u001b[1;36m7\u001b[0m\u001b[1;33m)\u001b[0m\u001b[1;33m\u001b[0m\u001b[1;33m\u001b[0m\u001b[0m\n\u001b[0m",
      "\u001b[1;32m<ipython-input-75-e5430ff4aa3d>\u001b[0m in \u001b[0;36mising_U_local_tore\u001b[1;34m(picture, beta, B, col, row)\u001b[0m\n\u001b[0;32m     16\u001b[0m     \u001b[1;32mfor\u001b[0m \u001b[0mv\u001b[0m \u001b[1;32min\u001b[0m \u001b[1;33m[\u001b[0m\u001b[0md\u001b[0m\u001b[1;33m,\u001b[0m\u001b[0mu\u001b[0m\u001b[1;33m,\u001b[0m\u001b[0ml\u001b[0m\u001b[1;33m,\u001b[0m\u001b[0mr\u001b[0m\u001b[1;33m]\u001b[0m\u001b[1;33m:\u001b[0m\u001b[1;33m\u001b[0m\u001b[1;33m\u001b[0m\u001b[0m\n\u001b[0;32m     17\u001b[0m         \u001b[0mprint\u001b[0m\u001b[1;33m(\u001b[0m\u001b[0mv\u001b[0m\u001b[1;33m)\u001b[0m\u001b[1;33m\u001b[0m\u001b[1;33m\u001b[0m\u001b[0m\n\u001b[1;32m---> 18\u001b[1;33m         \u001b[0mxv\u001b[0m \u001b[1;33m=\u001b[0m \u001b[1;33m-\u001b[0m\u001b[1;36m1\u001b[0m\u001b[1;33m+\u001b[0m\u001b[0mpic\u001b[0m\u001b[1;33m.\u001b[0m\u001b[0mgetpixel\u001b[0m\u001b[1;33m(\u001b[0m\u001b[0mv\u001b[0m\u001b[1;33m)\u001b[0m\u001b[1;33m*\u001b[0m\u001b[1;36m2\u001b[0m\u001b[1;33m/\u001b[0m\u001b[1;36m255\u001b[0m \u001b[1;31m#if s is in the image's outile, not every neighbour would work\u001b[0m\u001b[1;33m\u001b[0m\u001b[1;33m\u001b[0m\u001b[0m\n\u001b[0m\u001b[0;32m     19\u001b[0m         \u001b[0mUs\u001b[0m \u001b[1;33m+=\u001b[0m \u001b[1;33m-\u001b[0m\u001b[0mbeta\u001b[0m\u001b[1;33m*\u001b[0m\u001b[0mxs\u001b[0m\u001b[1;33m*\u001b[0m\u001b[0mxv\u001b[0m \u001b[1;31m#add clique energy to Us\u001b[0m\u001b[1;33m\u001b[0m\u001b[1;33m\u001b[0m\u001b[0m\n\u001b[0;32m     20\u001b[0m         \u001b[1;31m#print(f\"xv={xv}\")\u001b[0m\u001b[1;33m\u001b[0m\u001b[1;33m\u001b[0m\u001b[1;33m\u001b[0m\u001b[0m\n",
      "\u001b[1;32mC:\\ProgramData\\Anaconda3\\lib\\site-packages\\PIL\\Image.py\u001b[0m in \u001b[0;36mgetpixel\u001b[1;34m(self, xy)\u001b[0m\n\u001b[0;32m   1313\u001b[0m         \u001b[1;32mif\u001b[0m \u001b[0mself\u001b[0m\u001b[1;33m.\u001b[0m\u001b[0mpyaccess\u001b[0m\u001b[1;33m:\u001b[0m\u001b[1;33m\u001b[0m\u001b[1;33m\u001b[0m\u001b[0m\n\u001b[0;32m   1314\u001b[0m             \u001b[1;32mreturn\u001b[0m \u001b[0mself\u001b[0m\u001b[1;33m.\u001b[0m\u001b[0mpyaccess\u001b[0m\u001b[1;33m.\u001b[0m\u001b[0mgetpixel\u001b[0m\u001b[1;33m(\u001b[0m\u001b[0mxy\u001b[0m\u001b[1;33m)\u001b[0m\u001b[1;33m\u001b[0m\u001b[1;33m\u001b[0m\u001b[0m\n\u001b[1;32m-> 1315\u001b[1;33m         \u001b[1;32mreturn\u001b[0m \u001b[0mself\u001b[0m\u001b[1;33m.\u001b[0m\u001b[0mim\u001b[0m\u001b[1;33m.\u001b[0m\u001b[0mgetpixel\u001b[0m\u001b[1;33m(\u001b[0m\u001b[0mxy\u001b[0m\u001b[1;33m)\u001b[0m\u001b[1;33m\u001b[0m\u001b[1;33m\u001b[0m\u001b[0m\n\u001b[0m\u001b[0;32m   1316\u001b[0m \u001b[1;33m\u001b[0m\u001b[0m\n\u001b[0;32m   1317\u001b[0m     \u001b[1;32mdef\u001b[0m \u001b[0mgetprojection\u001b[0m\u001b[1;33m(\u001b[0m\u001b[0mself\u001b[0m\u001b[1;33m)\u001b[0m\u001b[1;33m:\u001b[0m\u001b[1;33m\u001b[0m\u001b[1;33m\u001b[0m\u001b[0m\n",
      "\u001b[1;31mIndexError\u001b[0m: image index out of range"
     ]
    }
   ],
   "source": [
    "ising_U_local_tore(\"picture.png\",1,1,7,7)"
   ]
  },
  {
   "cell_type": "code",
   "execution_count": 67,
   "metadata": {},
   "outputs": [
    {
     "name": "stdout",
     "output_type": "stream",
     "text": [
      "(8, 8)\n",
      "(0, -1)\n",
      "(0, 1)\n",
      "(-1, 0)\n",
      "(1, 0)\n",
      "\n",
      "\n",
      "(0, 0)\n",
      "(0, 2)\n",
      "(-1, 1)\n",
      "(1, 1)\n",
      "\n",
      "\n",
      "(0, 1)\n",
      "(0, 3)\n",
      "(-1, 2)\n",
      "(1, 2)\n",
      "\n",
      "\n",
      "(0, 2)\n",
      "(0, 4)\n",
      "(-1, 3)\n",
      "(1, 3)\n",
      "\n",
      "\n",
      "(0, 3)\n",
      "(0, 5)\n",
      "(-1, 4)\n",
      "(1, 4)\n",
      "\n",
      "\n",
      "(0, 4)\n",
      "(0, 6)\n",
      "(-1, 5)\n",
      "(1, 5)\n",
      "\n",
      "\n",
      "(0, 5)\n",
      "(0, 7)\n",
      "(-1, 6)\n",
      "(1, 6)\n",
      "\n",
      "\n",
      "(0, 6)\n",
      "(0, 8)\n"
     ]
    },
    {
     "ename": "IndexError",
     "evalue": "image index out of range",
     "output_type": "error",
     "traceback": [
      "\u001b[1;31m---------------------------------------------------------------------------\u001b[0m",
      "\u001b[1;31mIndexError\u001b[0m                                Traceback (most recent call last)",
      "\u001b[1;32m<ipython-input-67-aa1b4421342a>\u001b[0m in \u001b[0;36m<module>\u001b[1;34m\u001b[0m\n\u001b[1;32m----> 1\u001b[1;33m \u001b[0mising_U_global\u001b[0m\u001b[1;33m(\u001b[0m\u001b[1;34m\"picture.png\"\u001b[0m\u001b[1;33m,\u001b[0m \u001b[1;36m1\u001b[0m\u001b[1;33m,\u001b[0m \u001b[1;36m1\u001b[0m\u001b[1;33m)\u001b[0m\u001b[1;33m\u001b[0m\u001b[1;33m\u001b[0m\u001b[0m\n\u001b[0m",
      "\u001b[1;32m<ipython-input-65-739d253d20f1>\u001b[0m in \u001b[0;36mising_U_global\u001b[1;34m(picture, beta, B)\u001b[0m\n\u001b[0;32m     10\u001b[0m     \u001b[1;32mfor\u001b[0m \u001b[0mcol\u001b[0m \u001b[1;32min\u001b[0m \u001b[0mrange\u001b[0m\u001b[1;33m(\u001b[0m\u001b[0msize\u001b[0m\u001b[1;33m[\u001b[0m\u001b[1;36m0\u001b[0m\u001b[1;33m]\u001b[0m\u001b[1;33m)\u001b[0m\u001b[1;33m:\u001b[0m\u001b[1;33m\u001b[0m\u001b[1;33m\u001b[0m\u001b[0m\n\u001b[0;32m     11\u001b[0m         \u001b[1;32mfor\u001b[0m \u001b[0mrow\u001b[0m \u001b[1;32min\u001b[0m \u001b[0mrange\u001b[0m\u001b[1;33m(\u001b[0m\u001b[0msize\u001b[0m\u001b[1;33m[\u001b[0m\u001b[1;36m1\u001b[0m\u001b[1;33m]\u001b[0m\u001b[1;33m)\u001b[0m\u001b[1;33m:\u001b[0m\u001b[1;33m\u001b[0m\u001b[1;33m\u001b[0m\u001b[0m\n\u001b[1;32m---> 12\u001b[1;33m             \u001b[0mU\u001b[0m \u001b[1;33m+=\u001b[0m \u001b[0mising_U_local_tore\u001b[0m\u001b[1;33m(\u001b[0m\u001b[0mpicture\u001b[0m\u001b[1;33m,\u001b[0m \u001b[0mbeta\u001b[0m\u001b[1;33m,\u001b[0m \u001b[0mB\u001b[0m\u001b[1;33m,\u001b[0m \u001b[0mcol\u001b[0m\u001b[1;33m,\u001b[0m \u001b[0mrow\u001b[0m\u001b[1;33m)\u001b[0m\u001b[1;33m\u001b[0m\u001b[1;33m\u001b[0m\u001b[0m\n\u001b[0m\u001b[0;32m     13\u001b[0m             \u001b[0mprint\u001b[0m\u001b[1;33m(\u001b[0m\u001b[1;34m\"\\n\"\u001b[0m\u001b[1;33m)\u001b[0m\u001b[1;33m\u001b[0m\u001b[1;33m\u001b[0m\u001b[0m\n\u001b[0;32m     14\u001b[0m     \u001b[1;32mreturn\u001b[0m \u001b[0mU\u001b[0m\u001b[1;33m\u001b[0m\u001b[1;33m\u001b[0m\u001b[0m\n",
      "\u001b[1;32m<ipython-input-66-7e560c1fcf60>\u001b[0m in \u001b[0;36mising_U_local_tore\u001b[1;34m(picture, beta, B, col, row)\u001b[0m\n\u001b[0;32m     12\u001b[0m     \u001b[1;32mfor\u001b[0m \u001b[0mv\u001b[0m \u001b[1;32min\u001b[0m \u001b[1;33m[\u001b[0m\u001b[0md\u001b[0m\u001b[1;33m,\u001b[0m\u001b[0mu\u001b[0m\u001b[1;33m,\u001b[0m\u001b[0ml\u001b[0m\u001b[1;33m,\u001b[0m\u001b[0mr\u001b[0m\u001b[1;33m]\u001b[0m\u001b[1;33m:\u001b[0m\u001b[1;33m\u001b[0m\u001b[1;33m\u001b[0m\u001b[0m\n\u001b[0;32m     13\u001b[0m         \u001b[0mprint\u001b[0m\u001b[1;33m(\u001b[0m\u001b[0mv\u001b[0m\u001b[1;33m)\u001b[0m\u001b[1;33m\u001b[0m\u001b[1;33m\u001b[0m\u001b[0m\n\u001b[1;32m---> 14\u001b[1;33m         \u001b[0mxv\u001b[0m \u001b[1;33m=\u001b[0m \u001b[1;33m-\u001b[0m\u001b[1;36m1\u001b[0m\u001b[1;33m+\u001b[0m\u001b[0mpic\u001b[0m\u001b[1;33m.\u001b[0m\u001b[0mgetpixel\u001b[0m\u001b[1;33m(\u001b[0m\u001b[0mv\u001b[0m\u001b[1;33m)\u001b[0m\u001b[1;33m*\u001b[0m\u001b[1;36m2\u001b[0m\u001b[1;33m/\u001b[0m\u001b[1;36m255\u001b[0m \u001b[1;31m#if s is in the image's outile, not every neighbour would work\u001b[0m\u001b[1;33m\u001b[0m\u001b[1;33m\u001b[0m\u001b[0m\n\u001b[0m\u001b[0;32m     15\u001b[0m         \u001b[0mUs\u001b[0m \u001b[1;33m+=\u001b[0m \u001b[1;33m-\u001b[0m\u001b[0mbeta\u001b[0m\u001b[1;33m*\u001b[0m\u001b[0mxs\u001b[0m\u001b[1;33m*\u001b[0m\u001b[0mxv\u001b[0m \u001b[1;31m#add clique energy to Us\u001b[0m\u001b[1;33m\u001b[0m\u001b[1;33m\u001b[0m\u001b[0m\n\u001b[0;32m     16\u001b[0m         \u001b[1;31m#print(f\"xv={xv}\")\u001b[0m\u001b[1;33m\u001b[0m\u001b[1;33m\u001b[0m\u001b[1;33m\u001b[0m\u001b[0m\n",
      "\u001b[1;32mC:\\ProgramData\\Anaconda3\\lib\\site-packages\\PIL\\Image.py\u001b[0m in \u001b[0;36mgetpixel\u001b[1;34m(self, xy)\u001b[0m\n\u001b[0;32m   1313\u001b[0m         \u001b[1;32mif\u001b[0m \u001b[0mself\u001b[0m\u001b[1;33m.\u001b[0m\u001b[0mpyaccess\u001b[0m\u001b[1;33m:\u001b[0m\u001b[1;33m\u001b[0m\u001b[1;33m\u001b[0m\u001b[0m\n\u001b[0;32m   1314\u001b[0m             \u001b[1;32mreturn\u001b[0m \u001b[0mself\u001b[0m\u001b[1;33m.\u001b[0m\u001b[0mpyaccess\u001b[0m\u001b[1;33m.\u001b[0m\u001b[0mgetpixel\u001b[0m\u001b[1;33m(\u001b[0m\u001b[0mxy\u001b[0m\u001b[1;33m)\u001b[0m\u001b[1;33m\u001b[0m\u001b[1;33m\u001b[0m\u001b[0m\n\u001b[1;32m-> 1315\u001b[1;33m         \u001b[1;32mreturn\u001b[0m \u001b[0mself\u001b[0m\u001b[1;33m.\u001b[0m\u001b[0mim\u001b[0m\u001b[1;33m.\u001b[0m\u001b[0mgetpixel\u001b[0m\u001b[1;33m(\u001b[0m\u001b[0mxy\u001b[0m\u001b[1;33m)\u001b[0m\u001b[1;33m\u001b[0m\u001b[1;33m\u001b[0m\u001b[0m\n\u001b[0m\u001b[0;32m   1316\u001b[0m \u001b[1;33m\u001b[0m\u001b[0m\n\u001b[0;32m   1317\u001b[0m     \u001b[1;32mdef\u001b[0m \u001b[0mgetprojection\u001b[0m\u001b[1;33m(\u001b[0m\u001b[0mself\u001b[0m\u001b[1;33m)\u001b[0m\u001b[1;33m:\u001b[0m\u001b[1;33m\u001b[0m\u001b[1;33m\u001b[0m\u001b[0m\n",
      "\u001b[1;31mIndexError\u001b[0m: image index out of range"
     ]
    }
   ],
   "source": [
    "ising_U_global(\"picture.png\", 1, 1)"
   ]
  },
  {
   "cell_type": "code",
   "execution_count": 74,
   "metadata": {},
   "outputs": [
    {
     "ename": "IndexError",
     "evalue": "image index out of range",
     "output_type": "error",
     "traceback": [
      "\u001b[1;31m---------------------------------------------------------------------------\u001b[0m",
      "\u001b[1;31mIndexError\u001b[0m                                Traceback (most recent call last)",
      "\u001b[1;32m<ipython-input-74-b85c0c9b2a0d>\u001b[0m in \u001b[0;36m<module>\u001b[1;34m\u001b[0m\n\u001b[0;32m      1\u001b[0m \u001b[0mimagex\u001b[0m\u001b[1;33m=\u001b[0m \u001b[0mimg\u001b[0m\u001b[1;33m.\u001b[0m\u001b[0mopen\u001b[0m\u001b[1;33m(\u001b[0m\u001b[1;34m\"picture.png\"\u001b[0m\u001b[1;33m)\u001b[0m\u001b[1;33m\u001b[0m\u001b[1;33m\u001b[0m\u001b[0m\n\u001b[1;32m----> 2\u001b[1;33m \u001b[0mimagex\u001b[0m\u001b[1;33m.\u001b[0m\u001b[0mgetpixel\u001b[0m\u001b[1;33m(\u001b[0m\u001b[1;33m(\u001b[0m\u001b[1;36m8\u001b[0m\u001b[1;33m,\u001b[0m\u001b[1;33m-\u001b[0m\u001b[1;36m1\u001b[0m\u001b[1;33m)\u001b[0m\u001b[1;33m)\u001b[0m\u001b[1;33m\u001b[0m\u001b[1;33m\u001b[0m\u001b[0m\n\u001b[0m",
      "\u001b[1;32mC:\\ProgramData\\Anaconda3\\lib\\site-packages\\PIL\\Image.py\u001b[0m in \u001b[0;36mgetpixel\u001b[1;34m(self, xy)\u001b[0m\n\u001b[0;32m   1313\u001b[0m         \u001b[1;32mif\u001b[0m \u001b[0mself\u001b[0m\u001b[1;33m.\u001b[0m\u001b[0mpyaccess\u001b[0m\u001b[1;33m:\u001b[0m\u001b[1;33m\u001b[0m\u001b[1;33m\u001b[0m\u001b[0m\n\u001b[0;32m   1314\u001b[0m             \u001b[1;32mreturn\u001b[0m \u001b[0mself\u001b[0m\u001b[1;33m.\u001b[0m\u001b[0mpyaccess\u001b[0m\u001b[1;33m.\u001b[0m\u001b[0mgetpixel\u001b[0m\u001b[1;33m(\u001b[0m\u001b[0mxy\u001b[0m\u001b[1;33m)\u001b[0m\u001b[1;33m\u001b[0m\u001b[1;33m\u001b[0m\u001b[0m\n\u001b[1;32m-> 1315\u001b[1;33m         \u001b[1;32mreturn\u001b[0m \u001b[0mself\u001b[0m\u001b[1;33m.\u001b[0m\u001b[0mim\u001b[0m\u001b[1;33m.\u001b[0m\u001b[0mgetpixel\u001b[0m\u001b[1;33m(\u001b[0m\u001b[0mxy\u001b[0m\u001b[1;33m)\u001b[0m\u001b[1;33m\u001b[0m\u001b[1;33m\u001b[0m\u001b[0m\n\u001b[0m\u001b[0;32m   1316\u001b[0m \u001b[1;33m\u001b[0m\u001b[0m\n\u001b[0;32m   1317\u001b[0m     \u001b[1;32mdef\u001b[0m \u001b[0mgetprojection\u001b[0m\u001b[1;33m(\u001b[0m\u001b[0mself\u001b[0m\u001b[1;33m)\u001b[0m\u001b[1;33m:\u001b[0m\u001b[1;33m\u001b[0m\u001b[1;33m\u001b[0m\u001b[0m\n",
      "\u001b[1;31mIndexError\u001b[0m: image index out of range"
     ]
    }
   ],
   "source": [
    "imagex= img.open(\"picture.png\")\n",
    "imagex.getpixel((8,-1))"
   ]
  },
  {
   "cell_type": "code",
   "execution_count": 13,
   "metadata": {},
   "outputs": [],
   "source": [
    "def ising_U_local(picture, beta, B, col, row):\n",
    "    \"\"\"\n",
    "    \"\"\"\n",
    "        #VARIABLES\n",
    "    pic = img.open(picture) #the picture, given by image generator\n",
    "    size = pic.size #dimentions as tuple (width, height)\n",
    "    tst = 2//255\n",
    "    xs = pic.getpixel((row,col))*tst-1 #energy of site s, with translation to (-1,1) value range\n",
    "    Us = -B*xs #energy initialised with site's energy\n",
    "    \n",
    "    u, d, l, r = (col,row-1), (col,row+1), (col-1,row), (col+1,row) #down, up, left, right\n",
    "    xu, xd, xl, xr, = pic.getpixel(u), pic.getpixel(d), pic.getpixel(l), pic.getpixel(r)\n",
    "    u_rip, d_rip, l_rip, r_rip = (col, 0), (col, size[1]), (0, row), (size[0], row)\n",
    "    V = [u,d,l,r] #list of neightbour coordinates\n",
    "    xV = [xu, xd, xl, xr] #lsit of neighbour value\n",
    "    RIP = [u_rip, d_rip, l_rip, r_rip] #list of try condition\n",
    "    \n",
    "    for (v, rip, xv) in zip(V, RIP, xV): #possibly four neightbours\n",
    "        try: v>=rip #avoid u=(col,-1)\n",
    "        except ExplicitException: del xV[xV.index(xv)] # then xv wont be used in Us compute\n",
    "        try: v<=rip\n",
    "        except ExplicitException: del xV[V.index(xv)] # then xv wont be used in Us compute\n",
    "    for xv in xV:\n",
    "        Us += -beta*xs*xv\n",
    "    print(f\"(xs, V, RIP, xV)={(xs, V, RIP, xV)}\")\n",
    "    return Us"
   ]
  },
  {
   "cell_type": "code",
   "execution_count": 19,
   "metadata": {},
   "outputs": [
    {
     "ename": "IndexError",
     "evalue": "image index out of range",
     "output_type": "error",
     "traceback": [
      "\u001b[1;31m---------------------------------------------------------------------------\u001b[0m",
      "\u001b[1;31mIndexError\u001b[0m                                Traceback (most recent call last)",
      "\u001b[1;32m<ipython-input-19-95612634c070>\u001b[0m in \u001b[0;36m<module>\u001b[1;34m\u001b[0m\n\u001b[1;32m----> 1\u001b[1;33m \u001b[0mising_U_local\u001b[0m\u001b[1;33m(\u001b[0m\u001b[1;34m\"picture.png\"\u001b[0m\u001b[1;33m,\u001b[0m\u001b[1;36m1\u001b[0m\u001b[1;33m,\u001b[0m\u001b[1;36m1\u001b[0m\u001b[1;33m,\u001b[0m\u001b[1;36m0\u001b[0m\u001b[1;33m,\u001b[0m\u001b[1;36m2\u001b[0m\u001b[1;33m)\u001b[0m\u001b[1;33m\u001b[0m\u001b[1;33m\u001b[0m\u001b[0m\n\u001b[0m",
      "\u001b[1;32m<ipython-input-13-1f6ef84bf0a5>\u001b[0m in \u001b[0;36mising_U_local\u001b[1;34m(picture, beta, B, col, row)\u001b[0m\n\u001b[0;32m     10\u001b[0m \u001b[1;33m\u001b[0m\u001b[0m\n\u001b[0;32m     11\u001b[0m     \u001b[0mu\u001b[0m\u001b[1;33m,\u001b[0m \u001b[0md\u001b[0m\u001b[1;33m,\u001b[0m \u001b[0ml\u001b[0m\u001b[1;33m,\u001b[0m \u001b[0mr\u001b[0m \u001b[1;33m=\u001b[0m \u001b[1;33m(\u001b[0m\u001b[0mcol\u001b[0m\u001b[1;33m,\u001b[0m\u001b[0mrow\u001b[0m\u001b[1;33m-\u001b[0m\u001b[1;36m1\u001b[0m\u001b[1;33m)\u001b[0m\u001b[1;33m,\u001b[0m \u001b[1;33m(\u001b[0m\u001b[0mcol\u001b[0m\u001b[1;33m,\u001b[0m\u001b[0mrow\u001b[0m\u001b[1;33m+\u001b[0m\u001b[1;36m1\u001b[0m\u001b[1;33m)\u001b[0m\u001b[1;33m,\u001b[0m \u001b[1;33m(\u001b[0m\u001b[0mcol\u001b[0m\u001b[1;33m-\u001b[0m\u001b[1;36m1\u001b[0m\u001b[1;33m,\u001b[0m\u001b[0mrow\u001b[0m\u001b[1;33m)\u001b[0m\u001b[1;33m,\u001b[0m \u001b[1;33m(\u001b[0m\u001b[0mcol\u001b[0m\u001b[1;33m+\u001b[0m\u001b[1;36m1\u001b[0m\u001b[1;33m,\u001b[0m\u001b[0mrow\u001b[0m\u001b[1;33m)\u001b[0m \u001b[1;31m#down, up, left, right\u001b[0m\u001b[1;33m\u001b[0m\u001b[1;33m\u001b[0m\u001b[0m\n\u001b[1;32m---> 12\u001b[1;33m     \u001b[0mxu\u001b[0m\u001b[1;33m,\u001b[0m \u001b[0mxd\u001b[0m\u001b[1;33m,\u001b[0m \u001b[0mxl\u001b[0m\u001b[1;33m,\u001b[0m \u001b[0mxr\u001b[0m\u001b[1;33m,\u001b[0m \u001b[1;33m=\u001b[0m \u001b[0mpic\u001b[0m\u001b[1;33m.\u001b[0m\u001b[0mgetpixel\u001b[0m\u001b[1;33m(\u001b[0m\u001b[0mu\u001b[0m\u001b[1;33m)\u001b[0m\u001b[1;33m,\u001b[0m \u001b[0mpic\u001b[0m\u001b[1;33m.\u001b[0m\u001b[0mgetpixel\u001b[0m\u001b[1;33m(\u001b[0m\u001b[0md\u001b[0m\u001b[1;33m)\u001b[0m\u001b[1;33m,\u001b[0m \u001b[0mpic\u001b[0m\u001b[1;33m.\u001b[0m\u001b[0mgetpixel\u001b[0m\u001b[1;33m(\u001b[0m\u001b[0ml\u001b[0m\u001b[1;33m)\u001b[0m\u001b[1;33m,\u001b[0m \u001b[0mpic\u001b[0m\u001b[1;33m.\u001b[0m\u001b[0mgetpixel\u001b[0m\u001b[1;33m(\u001b[0m\u001b[0mr\u001b[0m\u001b[1;33m)\u001b[0m\u001b[1;33m\u001b[0m\u001b[1;33m\u001b[0m\u001b[0m\n\u001b[0m\u001b[0;32m     13\u001b[0m     \u001b[0mu_rip\u001b[0m\u001b[1;33m,\u001b[0m \u001b[0md_rip\u001b[0m\u001b[1;33m,\u001b[0m \u001b[0ml_rip\u001b[0m\u001b[1;33m,\u001b[0m \u001b[0mr_rip\u001b[0m \u001b[1;33m=\u001b[0m \u001b[1;33m(\u001b[0m\u001b[0mcol\u001b[0m\u001b[1;33m,\u001b[0m \u001b[1;36m0\u001b[0m\u001b[1;33m)\u001b[0m\u001b[1;33m,\u001b[0m \u001b[1;33m(\u001b[0m\u001b[0mcol\u001b[0m\u001b[1;33m,\u001b[0m \u001b[0msize\u001b[0m\u001b[1;33m[\u001b[0m\u001b[1;36m1\u001b[0m\u001b[1;33m]\u001b[0m\u001b[1;33m)\u001b[0m\u001b[1;33m,\u001b[0m \u001b[1;33m(\u001b[0m\u001b[1;36m0\u001b[0m\u001b[1;33m,\u001b[0m \u001b[0mrow\u001b[0m\u001b[1;33m)\u001b[0m\u001b[1;33m,\u001b[0m \u001b[1;33m(\u001b[0m\u001b[0msize\u001b[0m\u001b[1;33m[\u001b[0m\u001b[1;36m0\u001b[0m\u001b[1;33m]\u001b[0m\u001b[1;33m,\u001b[0m \u001b[0mrow\u001b[0m\u001b[1;33m)\u001b[0m\u001b[1;33m\u001b[0m\u001b[1;33m\u001b[0m\u001b[0m\n\u001b[0;32m     14\u001b[0m     \u001b[0mV\u001b[0m \u001b[1;33m=\u001b[0m \u001b[1;33m[\u001b[0m\u001b[0mu\u001b[0m\u001b[1;33m,\u001b[0m\u001b[0md\u001b[0m\u001b[1;33m,\u001b[0m\u001b[0ml\u001b[0m\u001b[1;33m,\u001b[0m\u001b[0mr\u001b[0m\u001b[1;33m]\u001b[0m \u001b[1;31m#list of neightbour coordinates\u001b[0m\u001b[1;33m\u001b[0m\u001b[1;33m\u001b[0m\u001b[0m\n",
      "\u001b[1;32mC:\\ProgramData\\Anaconda3\\lib\\site-packages\\PIL\\Image.py\u001b[0m in \u001b[0;36mgetpixel\u001b[1;34m(self, xy)\u001b[0m\n\u001b[0;32m   1313\u001b[0m         \u001b[1;32mif\u001b[0m \u001b[0mself\u001b[0m\u001b[1;33m.\u001b[0m\u001b[0mpyaccess\u001b[0m\u001b[1;33m:\u001b[0m\u001b[1;33m\u001b[0m\u001b[1;33m\u001b[0m\u001b[0m\n\u001b[0;32m   1314\u001b[0m             \u001b[1;32mreturn\u001b[0m \u001b[0mself\u001b[0m\u001b[1;33m.\u001b[0m\u001b[0mpyaccess\u001b[0m\u001b[1;33m.\u001b[0m\u001b[0mgetpixel\u001b[0m\u001b[1;33m(\u001b[0m\u001b[0mxy\u001b[0m\u001b[1;33m)\u001b[0m\u001b[1;33m\u001b[0m\u001b[1;33m\u001b[0m\u001b[0m\n\u001b[1;32m-> 1315\u001b[1;33m         \u001b[1;32mreturn\u001b[0m \u001b[0mself\u001b[0m\u001b[1;33m.\u001b[0m\u001b[0mim\u001b[0m\u001b[1;33m.\u001b[0m\u001b[0mgetpixel\u001b[0m\u001b[1;33m(\u001b[0m\u001b[0mxy\u001b[0m\u001b[1;33m)\u001b[0m\u001b[1;33m\u001b[0m\u001b[1;33m\u001b[0m\u001b[0m\n\u001b[0m\u001b[0;32m   1316\u001b[0m \u001b[1;33m\u001b[0m\u001b[0m\n\u001b[0;32m   1317\u001b[0m     \u001b[1;32mdef\u001b[0m \u001b[0mgetprojection\u001b[0m\u001b[1;33m(\u001b[0m\u001b[0mself\u001b[0m\u001b[1;33m)\u001b[0m\u001b[1;33m:\u001b[0m\u001b[1;33m\u001b[0m\u001b[1;33m\u001b[0m\u001b[0m\n",
      "\u001b[1;31mIndexError\u001b[0m: image index out of range"
     ]
    }
   ],
   "source": [
    "ising_U_local(\"picture.png\",1,1,0,2)"
   ]
  },
  {
   "cell_type": "code",
   "execution_count": 16,
   "metadata": {
    "scrolled": true
   },
   "outputs": [
    {
     "name": "stdout",
     "output_type": "stream",
     "text": [
      "1.0\n",
      "xv=1.0\n",
      "xv=1.0\n",
      "xv=-1.0\n",
      "xv=-1.0\n"
     ]
    },
    {
     "data": {
      "text/plain": [
       "-1.0"
      ]
     },
     "execution_count": 16,
     "metadata": {},
     "output_type": "execute_result"
    }
   ],
   "source": [
    "ising_U_local('picture.png', 1, 1, 0, 0)"
   ]
  },
  {
   "cell_type": "code",
   "execution_count": 49,
   "metadata": {},
   "outputs": [
    {
     "data": {
      "text/plain": [
       "255"
      ]
     },
     "execution_count": 49,
     "metadata": {},
     "output_type": "execute_result"
    }
   ],
   "source": [
    "c.getpixel((0,0))"
   ]
  },
  {
   "cell_type": "code",
   "execution_count": 37,
   "metadata": {},
   "outputs": [
    {
     "name": "stdout",
     "output_type": "stream",
     "text": [
      "0\n"
     ]
    }
   ],
   "source": [
    "c = img.open(\"picture.png\")\n",
    "print(c.getpixel((0,2)))\n",
    "c.putpixel((0,2),1)\n",
    "c.save(\"picture.png\")\n",
    "c.show(\"picture.png\")"
   ]
  },
  {
   "cell_type": "code",
   "execution_count": null,
   "metadata": {},
   "outputs": [],
   "source": []
  },
  {
   "cell_type": "markdown",
   "metadata": {},
   "source": [
    "## Algorithms"
   ]
  },
  {
   "cell_type": "markdown",
   "metadata": {},
   "source": [
    "### metropolis algorithm\n",
    "> 1. choix d'un site s  \n",
    "> 2. tirage aléatoire d'une descripteur  \n",
    "> 3. calcul de la variation d'énergie  \n",
    "> 4. décision"
   ]
  },
  {
   "cell_type": "code",
   "execution_count": 7,
   "metadata": {},
   "outputs": [],
   "source": [
    "def metropolis(picture1, beta, B, n):\n",
    "    \"\"\"fonction to compute the metropolis algorithm\n",
    "    \"\"\"\n",
    "    #VARIABLES\n",
    "    pic1 = img.open(picture1) #the picture, given by image generator\n",
    "    width, height = pic1.size[0], pic1.size[1]  #dimentions pic.size return a tuple (width, height)\n",
    "    coords = [] #list of coordinates\n",
    "    for i in range(width): \n",
    "        for j in range(height): coords.append((i,j))\n",
    "    dU = 0 #initialise energy gap\n",
    "    not_change = 0 #stop condition\n",
    "\n",
    "        #FONCTION\n",
    "    for _ in range(n): #run n times     #while not_change <= 10 :\n",
    "\n",
    "        #CHOIX D'UN SITE (aléatoire ici)\n",
    "        s = rd.choice(coords) #(row, col) = (rd.randint(width), rd.randint(height))\n",
    "        xs1 = pic1.getpixel(s) \n",
    "        \n",
    "        #TIRAGE DESCRIPTEUR\n",
    "        xs2 = rd.choice((0,255))\n",
    "        \n",
    "        #VARIATION Us\n",
    "        image_copy_modificator(picture1, s[0], s[1], xs2) #create a copy \"picture2\" of image1 with value change of s \n",
    "        pic2 = img.open(\"picture2.png\")\n",
    "        U1 = ising_U_local(picture1, beta, B, s[0], s[1])\n",
    "        U2 = ising_U_local(\"picture2.png\", beta, B, s[0], s[1])\n",
    "        dU = U2-U1\n",
    "        \n",
    "        #DECISION\n",
    "        if dU < 0:  #global energy decreased\n",
    "            pic1.putpixel(s, xs2) \n",
    "            not_change = 0\n",
    "        else:  #global energy increased with p proba \n",
    "            continue\n",
    "            p = exp(-beta*(dU))\n",
    "            if rd.random() < p: \n",
    "                pic1.putpixel(s, xs2) \n",
    "                not_change = 0\n",
    "            else:\n",
    "                not_change += 1\n",
    "        print(f\"dU={dU}, U_global = {ising_U_global_sumLoc(picture1, beta, B)}\")"
   ]
  },
  {
   "cell_type": "code",
   "execution_count": 105,
   "metadata": {
    "scrolled": true
   },
   "outputs": [
    {
     "name": "stdout",
     "output_type": "stream",
     "text": [
      "global energy U = -5731890\n",
      "dU=-130305, U_global = -5731890\n",
      "global energy U = -5731890\n",
      "dU=-65280, U_global = -5731890\n",
      "global energy U = -5731890\n",
      "dU=-255, U_global = -5731890\n",
      "global energy U = -5731890\n",
      "dU=-130305, U_global = -5731890\n",
      "global energy U = -5731890\n",
      "dU=-130305, U_global = -5731890\n",
      "global energy U = -5731890\n",
      "dU=-130305, U_global = -5731890\n",
      "global energy U = -5731890\n",
      "dU=-130305, U_global = -5731890\n",
      "global energy U = -5731890\n",
      "dU=-260355, U_global = -5731890\n",
      "global energy U = -5731890\n",
      "dU=-130305, U_global = -5731890\n",
      "global energy U = -5731890\n",
      "dU=-130305, U_global = -5731890\n",
      "global energy U = -5731890\n",
      "dU=-130305, U_global = -5731890\n",
      "global energy U = -5731890\n",
      "dU=-195330, U_global = -5731890\n",
      "global energy U = -5731890\n",
      "dU=-65280, U_global = -5731890\n",
      "global energy U = -5731890\n",
      "dU=-130305, U_global = -5731890\n",
      "global energy U = -5731890\n",
      "dU=-130305, U_global = -5731890\n",
      "global energy U = -5731890\n",
      "dU=-130305, U_global = -5731890\n",
      "global energy U = -5731890\n",
      "dU=-130305, U_global = -5731890\n",
      "global energy U = -5731890\n",
      "dU=-65280, U_global = -5731890\n",
      "global energy U = -5731890\n",
      "dU=-130305, U_global = -5731890\n",
      "global energy U = -5731890\n",
      "dU=-130305, U_global = -5731890\n",
      "global energy U = -5731890\n",
      "dU=-260355, U_global = -5731890\n",
      "global energy U = -5731890\n",
      "dU=-65280, U_global = -5731890\n",
      "global energy U = -5731890\n",
      "dU=-195330, U_global = -5731890\n",
      "global energy U = -5731890\n",
      "dU=-195330, U_global = -5731890\n"
     ]
    }
   ],
   "source": [
    "metropolis(\"picture1.png\", 1, 1, 100)"
   ]
  },
  {
   "cell_type": "code",
   "execution_count": 72,
   "metadata": {
    "scrolled": true
   },
   "outputs": [
    {
     "ename": "OverflowError",
     "evalue": "math range error",
     "output_type": "error",
     "traceback": [
      "\u001b[1;31m---------------------------------------------------------------------------\u001b[0m",
      "\u001b[1;31mOverflowError\u001b[0m                             Traceback (most recent call last)",
      "\u001b[1;32m<ipython-input-72-4bef8f626e76>\u001b[0m in \u001b[0;36m<module>\u001b[1;34m\u001b[0m\n\u001b[1;32m----> 1\u001b[1;33m \u001b[0mexp\u001b[0m\u001b[1;33m(\u001b[0m\u001b[1;36m13305\u001b[0m\u001b[1;33m)\u001b[0m\u001b[1;33m\u001b[0m\u001b[1;33m\u001b[0m\u001b[0m\n\u001b[0m",
      "\u001b[1;31mOverflowError\u001b[0m: math range error"
     ]
    }
   ],
   "source": [
    "exp(13305)"
   ]
  },
  {
   "cell_type": "code",
   "execution_count": 16,
   "metadata": {},
   "outputs": [
    {
     "data": {
      "text/plain": [
       "50"
      ]
     },
     "execution_count": 16,
     "metadata": {},
     "output_type": "execute_result"
    }
   ],
   "source": [
    "rd.choice([0,50])"
   ]
  },
  {
   "cell_type": "markdown",
   "metadata": {},
   "source": [
    "### Gibbs algoritm\n",
    "> 1. choix d'un site s\n",
    "> 2. calcul de la probabilité conditionnelle locale <tex>$P(X_s = x_s | V_s)$</tex> \n",
    "> 3. mise à jour du site par tirage aléatoire selon la loi <tex>$P(X_s = x_s | V_s)$</tex>\n"
   ]
  },
  {
   "cell_type": "code",
   "execution_count": 2,
   "metadata": {},
   "outputs": [],
   "source": [
    "def gibbs():\n",
    "    \"\"\"recursive fonction to compute the gibbs' parser\n",
    "    \"\"\"\n",
    "    return"
   ]
  },
  {
   "cell_type": "code",
   "execution_count": null,
   "metadata": {},
   "outputs": [],
   "source": []
  }
 ],
 "metadata": {
  "kernelspec": {
   "display_name": "Python 3",
   "language": "python",
   "name": "python3"
  },
  "language_info": {
   "codemirror_mode": {
    "name": "ipython",
    "version": 3
   },
   "file_extension": ".py",
   "mimetype": "text/x-python",
   "name": "python",
   "nbconvert_exporter": "python",
   "pygments_lexer": "ipython3",
   "version": "3.7.6"
  }
 },
 "nbformat": 4,
 "nbformat_minor": 4
}
